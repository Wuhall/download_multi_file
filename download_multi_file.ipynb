{
 "cells": [
  {
   "cell_type": "code",
   "execution_count": 49,
   "id": "8f9f9680",
   "metadata": {},
   "outputs": [],
   "source": [
    "import requests\n",
    "import time\n",
    "import os\n",
    "from multiprocessing import cpu_count\n",
    "from multiprocessing.pool import ThreadPool"
   ]
  },
  {
   "cell_type": "code",
   "execution_count": 50,
   "id": "2a905ab8",
   "metadata": {},
   "outputs": [],
   "source": [
    "urls = ['https://ty.cutcckms.com/zhjl/upload/userfiles/2022/2022-03-07/220308144508426874/220308144508417162.jpg',\n",
    "'https://ty.cutcckms.com/zhjl/upload/userfiles/2022/2022-03-07/220308112702705362/220308112702874604.jpg',\n",
    "'https://ty.cutcckms.com/zhjl/upload/userfiles/2022/2022-03-07/220308153450084487/220308153450470326.jpg',\n",
    "'https://ty.cutcckms.com/zhjl/upload/userfiles/2022/2022-03-07/220309093853172665/220309093853286687.jpg']"
   ]
  },
  {
   "cell_type": "code",
   "execution_count": 51,
   "id": "68bb7506",
   "metadata": {},
   "outputs": [],
   "source": [
    "cur_time = time.strftime(\"%Y%m%d%H%M%S\", time.gmtime())   \n",
    "path_root = os.path.join(\"/opt/filebrowser/data/dataset\", cur_time)\n",
    "if os.path.exists(path_root) == False:\n",
    "    os.makedirs(path_root)\n",
    "fns = [os.path.join(path_root, '220308144508417162.jpg'),\n",
    "        os.path.join(path_root, '220308112702874604.jpg'),\n",
    "        os.path.join(path_root, '220308153450470326.jpg'),\n",
    "        os.path.join(path_root, '220309093853286687.jpg')]"
   ]
  },
  {
   "cell_type": "code",
   "execution_count": 52,
   "id": "2ef256a0",
   "metadata": {},
   "outputs": [],
   "source": [
    "inputs = zip(urls, fns)"
   ]
  },
  {
   "cell_type": "code",
   "execution_count": 53,
   "id": "06fb6b06",
   "metadata": {},
   "outputs": [],
   "source": [
    "def download_url(args):\n",
    "    t0 = time.time()\n",
    "    url, fn = args[0], args[1]\n",
    "    try:\n",
    "        r = requests.get(url)\n",
    "        with open(fn, 'wb') as f:\n",
    "            f.write(r.content)\n",
    "        return(url, time.time() - t0)\n",
    "    except Exception as e:\n",
    "        print('Exception in download_url():', e)"
   ]
  },
  {
   "cell_type": "code",
   "execution_count": 37,
   "id": "564e9c99",
   "metadata": {},
   "outputs": [
    {
     "name": "stdout",
     "output_type": "stream",
     "text": [
      "url: https://ty.cutcckms.com/zhjl/upload/userfiles/2022/2022-03-07/220308144508426874/220308144508417162.jpg time: 0.3949096202850342\n",
      "url: https://ty.cutcckms.com/zhjl/upload/userfiles/2022/2022-03-07/220308112702705362/220308112702874604.jpg time: 0.6136951446533203\n",
      "url: https://ty.cutcckms.com/zhjl/upload/userfiles/2022/2022-03-07/220308153450084487/220308153450470326.jpg time: 0.6126468181610107\n",
      "url: https://ty.cutcckms.com/zhjl/upload/userfiles/2022/2022-03-07/220309093853172665/220309093853286687.jpg time: 0.5002527236938477\n",
      "Total time: 2.123263120651245\n"
     ]
    }
   ],
   "source": [
    "# t0 = time.time()\n",
    "# for i in inputs:\n",
    "#     result = download_url(i)\n",
    "#     print('url:', result[0], 'time:', result[1])\n",
    "# print('Total time:', time.time() - t0)"
   ]
  },
  {
   "cell_type": "code",
   "execution_count": 56,
   "id": "9e84e764",
   "metadata": {},
   "outputs": [],
   "source": [
    "def download_parallel(args):\n",
    "    cpus = cpu_count()\n",
    "    results = ThreadPool(cpus - 1).imap_unordered(download_url, args)\n",
    "    for result in results:\n",
    "        print('url:', result[0], 'time (s):', result[1])"
   ]
  },
  {
   "cell_type": "code",
   "execution_count": 57,
   "id": "76989a97",
   "metadata": {},
   "outputs": [
    {
     "name": "stdout",
     "output_type": "stream",
     "text": [
      "Total time: 0.005572319030761719\n"
     ]
    }
   ],
   "source": [
    "t0 = time.time()\n",
    "download_parallel(inputs)\n",
    "print('Total time:', time.time() - t0)"
   ]
  },
  {
   "cell_type": "code",
   "execution_count": null,
   "id": "58f78889",
   "metadata": {},
   "outputs": [],
   "source": []
  }
 ],
 "metadata": {
  "kernelspec": {
   "display_name": "Python 3 (ipykernel)",
   "language": "python",
   "name": "python3"
  },
  "language_info": {
   "codemirror_mode": {
    "name": "ipython",
    "version": 3
   },
   "file_extension": ".py",
   "mimetype": "text/x-python",
   "name": "python",
   "nbconvert_exporter": "python",
   "pygments_lexer": "ipython3",
   "version": "3.8.13"
  }
 },
 "nbformat": 4,
 "nbformat_minor": 5
}
