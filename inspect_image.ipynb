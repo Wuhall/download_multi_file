{
 "cells": [
  {
   "cell_type": "code",
   "execution_count": 21,
   "id": "7b1dfc1f",
   "metadata": {},
   "outputs": [
    {
     "name": "stdout",
     "output_type": "stream",
     "text": [
      "Requirement already satisfied: pymysql in /home/liulu/bahs/envs/d2l/lib/python3.8/site-packages (1.0.2)\n",
      "Collecting wget\n",
      "  Downloading wget-3.2.zip (10 kB)\n",
      "  Preparing metadata (setup.py) ... \u001b[?25ldone\n",
      "\u001b[?25hBuilding wheels for collected packages: wget\n",
      "  Building wheel for wget (setup.py) ... \u001b[?25ldone\n",
      "\u001b[?25h  Created wheel for wget: filename=wget-3.2-py3-none-any.whl size=9657 sha256=060830d6ca5a610494f0776bd0048a0831722fa47a2d25a8d428a4b5157c9498\n",
      "  Stored in directory: /home/liulu/.cache/pip/wheels/bd/a8/c3/3cf2c14a1837a4e04bd98631724e81f33f462d86a1d895fae0\n",
      "Successfully built wget\n",
      "Installing collected packages: wget\n",
      "Successfully installed wget-3.2\n",
      "Note: you may need to restart the kernel to use updated packages.\n"
     ]
    }
   ],
   "source": [
    "pip install pymysql wget"
   ]
  },
  {
   "cell_type": "code",
   "execution_count": 67,
   "id": "fd5cb617",
   "metadata": {},
   "outputs": [],
   "source": [
    "import pymysql\n",
    "import time\n",
    "import datetime\n",
    "import json\n",
    "import functools\n",
    "import wget, tarfile\n",
    "import os\n",
    "from urllib import error\n",
    "\n",
    "\"\"\"\n",
    "json解析datatime\n",
    "\"\"\"\n",
    "class DateEncoder(json.JSONEncoder):\n",
    "    def default(self, obj):\n",
    "        if isinstance(obj, datetime.datetime):\n",
    "            return obj.strftime(\"%Y-%m-%d %H:%M:%S\")\n",
    "        else:\n",
    "            return json.JSONEncoder.default(self, obj)\n",
    "\"\"\"\n",
    "创建文件夹\n",
    "\"\"\"     \n",
    "def mkd(url):\n",
    "    if os.path.exists(url) == False:\n",
    "        os.makedirs(url)\n",
    "\n",
    "\"\"\"\n",
    "创建根文件夹\n",
    "\"\"\"\n",
    "cur_time = time.strftime(\"%Y%m%d%H%M%S\", time.gmtime())   \n",
    "path_root = os.path.join(\"/opt/filebrowser/data/dataset\", cur_time)\n",
    "mkd(path_root)\n",
    "\n",
    "\"\"\"\n",
    "文件批量下载\n",
    "\"\"\"\n",
    "def down_load(uri_list, out_path):\n",
    "    for uri in uri_list:\n",
    "        try:\n",
    "            wget.download(uri[\"uri\"], out=out_path)\n",
    "        except error.HTTPError:\n",
    "            print(\"ERR: \", uri[\"uri\"])"
   ]
  },
  {
   "cell_type": "markdown",
   "id": "42a15f12",
   "metadata": {},
   "source": [
    "## 参数start_time,end_time设置按时间段导出,时间格式为%Y-%m-%d\n"
   ]
  },
  {
   "cell_type": "code",
   "execution_count": 68,
   "id": "2d742868",
   "metadata": {},
   "outputs": [
    {
     "name": "stdout",
     "output_type": "stream",
     "text": [
      "ERR:  https://ty.cutcckms.com/zhjl/upload/userfiles/2021/2021-11-08/211108202023114540/211108202023313816.jpg\n",
      "ERR:  https://ty.cutcckms.com/zhjl/upload/userfiles/2021/2021-11-10/211110035851305046/211110035851184350.jpg\n",
      "ERR:  https://ty.cutcckms.com/zhjl/upload/userfiles/2021/2021-11-10/211110040530277836/211110040530038643.jpg\n",
      "ERR:  https://ty.cutcckms.com/zhjl/upload/userfiles/2021/2021-11-15/211115062658355355/211115062658535455.jpg\n",
      "ERR:  https://ty.cutcckms.com/zhjl/upload/userfiles/2021/2021-11-22/211122062005186552/211122062005587640.jpg\n",
      "ERR:  https://ty.cutcckms.com/zhjl/upload/userfiles/2021/2021-11-30/211130221912030252/211130221912327185.jpg\n",
      "ERR:  https://ty.cutcckms.com/zhjl/upload/userfiles/2021/2021-11-30/211130235551204088/211130235551383586.jpg\n",
      "ERR:  https://ty.cutcckms.com/zhjl/upload/userfiles/2021/2021-12-05/211205220557383434/211205220557106164.jpg\n",
      "ERR:  https://ty.cutcckms.com/zhjl/upload/userfiles/2021/2021-12-06/211206124551007085/211206124551245306.jpg\n",
      "ERR:  https://ty.cutcckms.com/zhjl/upload/userfiles/2022/2022-02-19/220225150235153577/220225150235577324.jpg\n",
      "ERR:  https://ty.cutcckms.com/zhjl/upload/userfiles/2022/2022-03-07/220307150934561427/220307150934605583.jpg\n",
      "ERR:  https://ty.cutcckms.com/zhjl/upload/userfiles/2021/2021-11-08/211108202037850074/211108202037225607.jpg\n",
      "ERR:  https://ty.cutcckms.com/zhjl/upload/userfiles/2021/2021-11-10/211110035910403625/211110035910241608.jpg\n",
      "ERR:  https://ty.cutcckms.com/zhjl/upload/userfiles/2021/2021-11-10/211110040550286321/211110040550451870.jpg\n",
      "ERR:  https://ty.cutcckms.com/zhjl/upload/userfiles/2021/2021-11-15/211115062712517776/211115062712484765.jpg\n",
      "ERR:  https://ty.cutcckms.com/zhjl/upload/userfiles/2021/2021-11-22/211122062019166780/211122062019871163.jpg\n",
      "ERR:  https://ty.cutcckms.com/zhjl/upload/userfiles/2021/2021-11-30/211130221935440208/211130221935143320.jpg\n",
      "ERR:  https://ty.cutcckms.com/zhjl/upload/userfiles/2021/2021-11-30/211130235603605622/211130235603283003.jpg\n",
      "ERR:  https://ty.cutcckms.com/zhjl/upload/userfiles/2021/2021-12-05/211205220613258236/211205220613373476.jpg\n",
      "ERR:  https://ty.cutcckms.com/zhjl/upload/userfiles/2021/2021-12-06/211206124605801828/211206124605133414.jpg\n",
      "ERR:  https://ty.cutcckms.com/zhjl/upload/userfiles/2022/2022-02-19/220225150249722843/220225150249605886.jpg\n",
      "ERR:  https://ty.cutcckms.com/zhjl/upload/userfiles/2022/2022-03-07/220307150952172108/220307150952142525.jpg\n",
      "ERR:  https://ty.cutcckms.com/zhjl/upload/userfiles/2022/2022-08-05/220805150250540720/220805150251617728.jpg\n"
     ]
    },
    {
     "ename": "KeyboardInterrupt",
     "evalue": "",
     "output_type": "error",
     "traceback": [
      "\u001b[0;31m---------------------------------------------------------------------------\u001b[0m",
      "\u001b[0;31mKeyboardInterrupt\u001b[0m                         Traceback (most recent call last)",
      "Cell \u001b[0;32mIn [68], line 51\u001b[0m\n\u001b[1;32m     49\u001b[0m             image \u001b[38;5;241m=\u001b[39m cursor\u001b[38;5;241m.\u001b[39mfetchall()\n\u001b[1;32m     50\u001b[0m             inspect_item[\u001b[38;5;124m\"\u001b[39m\u001b[38;5;124mimage\u001b[39m\u001b[38;5;124m\"\u001b[39m] \u001b[38;5;241m=\u001b[39m image\n\u001b[0;32m---> 51\u001b[0m             down_load(image, temp_file)\n\u001b[1;32m     52\u001b[0m connection\u001b[38;5;241m.\u001b[39mclose()\n",
      "Cell \u001b[0;32mIn [67], line 39\u001b[0m, in \u001b[0;36mdown_load\u001b[0;34m(uri_list, out_path)\u001b[0m\n\u001b[1;32m     37\u001b[0m \u001b[38;5;28;01mfor\u001b[39;00m uri \u001b[38;5;129;01min\u001b[39;00m uri_list:\n\u001b[1;32m     38\u001b[0m     \u001b[38;5;28;01mtry\u001b[39;00m:\n\u001b[0;32m---> 39\u001b[0m         \u001b[43mwget\u001b[49m\u001b[38;5;241;43m.\u001b[39;49m\u001b[43mdownload\u001b[49m\u001b[43m(\u001b[49m\u001b[43muri\u001b[49m\u001b[43m[\u001b[49m\u001b[38;5;124;43m\"\u001b[39;49m\u001b[38;5;124;43muri\u001b[39;49m\u001b[38;5;124;43m\"\u001b[39;49m\u001b[43m]\u001b[49m\u001b[43m,\u001b[49m\u001b[43m \u001b[49m\u001b[43mout\u001b[49m\u001b[38;5;241;43m=\u001b[39;49m\u001b[43mout_path\u001b[49m\u001b[43m)\u001b[49m\n\u001b[1;32m     40\u001b[0m     \u001b[38;5;28;01mexcept\u001b[39;00m error\u001b[38;5;241m.\u001b[39mHTTPError:\n\u001b[1;32m     41\u001b[0m         \u001b[38;5;28mprint\u001b[39m(\u001b[38;5;124m\"\u001b[39m\u001b[38;5;124mERR: \u001b[39m\u001b[38;5;124m\"\u001b[39m, uri[\u001b[38;5;124m\"\u001b[39m\u001b[38;5;124muri\u001b[39m\u001b[38;5;124m\"\u001b[39m])\n",
      "File \u001b[0;32m~/bahs\b\b/envs/d2l/lib/python3.8/site-packages/wget.py:526\u001b[0m, in \u001b[0;36mdownload\u001b[0;34m(url, out, bar)\u001b[0m\n\u001b[1;32m    524\u001b[0m \u001b[38;5;28;01melse\u001b[39;00m:\n\u001b[1;32m    525\u001b[0m     binurl \u001b[38;5;241m=\u001b[39m url\n\u001b[0;32m--> 526\u001b[0m (tmpfile, headers) \u001b[38;5;241m=\u001b[39m \u001b[43mulib\u001b[49m\u001b[38;5;241;43m.\u001b[39;49m\u001b[43murlretrieve\u001b[49m\u001b[43m(\u001b[49m\u001b[43mbinurl\u001b[49m\u001b[43m,\u001b[49m\u001b[43m \u001b[49m\u001b[43mtmpfile\u001b[49m\u001b[43m,\u001b[49m\u001b[43m \u001b[49m\u001b[43mcallback\u001b[49m\u001b[43m)\u001b[49m\n\u001b[1;32m    527\u001b[0m filename \u001b[38;5;241m=\u001b[39m detect_filename(url, out, headers)\n\u001b[1;32m    528\u001b[0m \u001b[38;5;28;01mif\u001b[39;00m outdir:\n",
      "File \u001b[0;32m~/bahs\b\b/envs/d2l/lib/python3.8/urllib/request.py:276\u001b[0m, in \u001b[0;36murlretrieve\u001b[0;34m(url, filename, reporthook, data)\u001b[0m\n\u001b[1;32m    273\u001b[0m     reporthook(blocknum, bs, size)\n\u001b[1;32m    275\u001b[0m \u001b[38;5;28;01mwhile\u001b[39;00m \u001b[38;5;28;01mTrue\u001b[39;00m:\n\u001b[0;32m--> 276\u001b[0m     block \u001b[38;5;241m=\u001b[39m \u001b[43mfp\u001b[49m\u001b[38;5;241;43m.\u001b[39;49m\u001b[43mread\u001b[49m\u001b[43m(\u001b[49m\u001b[43mbs\u001b[49m\u001b[43m)\u001b[49m\n\u001b[1;32m    277\u001b[0m     \u001b[38;5;28;01mif\u001b[39;00m \u001b[38;5;129;01mnot\u001b[39;00m block:\n\u001b[1;32m    278\u001b[0m         \u001b[38;5;28;01mbreak\u001b[39;00m\n",
      "File \u001b[0;32m~/bahs\b\b/envs/d2l/lib/python3.8/http/client.py:459\u001b[0m, in \u001b[0;36mHTTPResponse.read\u001b[0;34m(self, amt)\u001b[0m\n\u001b[1;32m    456\u001b[0m \u001b[38;5;28;01mif\u001b[39;00m amt \u001b[38;5;129;01mis\u001b[39;00m \u001b[38;5;129;01mnot\u001b[39;00m \u001b[38;5;28;01mNone\u001b[39;00m:\n\u001b[1;32m    457\u001b[0m     \u001b[38;5;66;03m# Amount is given, implement using readinto\u001b[39;00m\n\u001b[1;32m    458\u001b[0m     b \u001b[38;5;241m=\u001b[39m \u001b[38;5;28mbytearray\u001b[39m(amt)\n\u001b[0;32m--> 459\u001b[0m     n \u001b[38;5;241m=\u001b[39m \u001b[38;5;28;43mself\u001b[39;49m\u001b[38;5;241;43m.\u001b[39;49m\u001b[43mreadinto\u001b[49m\u001b[43m(\u001b[49m\u001b[43mb\u001b[49m\u001b[43m)\u001b[49m\n\u001b[1;32m    460\u001b[0m     \u001b[38;5;28;01mreturn\u001b[39;00m \u001b[38;5;28mmemoryview\u001b[39m(b)[:n]\u001b[38;5;241m.\u001b[39mtobytes()\n\u001b[1;32m    461\u001b[0m \u001b[38;5;28;01melse\u001b[39;00m:\n\u001b[1;32m    462\u001b[0m     \u001b[38;5;66;03m# Amount is not given (unbounded read) so we must check self.length\u001b[39;00m\n\u001b[1;32m    463\u001b[0m     \u001b[38;5;66;03m# and self.chunked\u001b[39;00m\n",
      "File \u001b[0;32m~/bahs\b\b/envs/d2l/lib/python3.8/http/client.py:503\u001b[0m, in \u001b[0;36mHTTPResponse.readinto\u001b[0;34m(self, b)\u001b[0m\n\u001b[1;32m    498\u001b[0m         b \u001b[38;5;241m=\u001b[39m \u001b[38;5;28mmemoryview\u001b[39m(b)[\u001b[38;5;241m0\u001b[39m:\u001b[38;5;28mself\u001b[39m\u001b[38;5;241m.\u001b[39mlength]\n\u001b[1;32m    500\u001b[0m \u001b[38;5;66;03m# we do not use _safe_read() here because this may be a .will_close\u001b[39;00m\n\u001b[1;32m    501\u001b[0m \u001b[38;5;66;03m# connection, and the user is reading more bytes than will be provided\u001b[39;00m\n\u001b[1;32m    502\u001b[0m \u001b[38;5;66;03m# (for example, reading in 1k chunks)\u001b[39;00m\n\u001b[0;32m--> 503\u001b[0m n \u001b[38;5;241m=\u001b[39m \u001b[38;5;28;43mself\u001b[39;49m\u001b[38;5;241;43m.\u001b[39;49m\u001b[43mfp\u001b[49m\u001b[38;5;241;43m.\u001b[39;49m\u001b[43mreadinto\u001b[49m\u001b[43m(\u001b[49m\u001b[43mb\u001b[49m\u001b[43m)\u001b[49m\n\u001b[1;32m    504\u001b[0m \u001b[38;5;28;01mif\u001b[39;00m \u001b[38;5;129;01mnot\u001b[39;00m n \u001b[38;5;129;01mand\u001b[39;00m b:\n\u001b[1;32m    505\u001b[0m     \u001b[38;5;66;03m# Ideally, we would raise IncompleteRead if the content-length\u001b[39;00m\n\u001b[1;32m    506\u001b[0m     \u001b[38;5;66;03m# wasn't satisfied, but it might break compatibility.\u001b[39;00m\n\u001b[1;32m    507\u001b[0m     \u001b[38;5;28mself\u001b[39m\u001b[38;5;241m.\u001b[39m_close_conn()\n",
      "File \u001b[0;32m~/bahs\b\b/envs/d2l/lib/python3.8/socket.py:669\u001b[0m, in \u001b[0;36mSocketIO.readinto\u001b[0;34m(self, b)\u001b[0m\n\u001b[1;32m    667\u001b[0m \u001b[38;5;28;01mwhile\u001b[39;00m \u001b[38;5;28;01mTrue\u001b[39;00m:\n\u001b[1;32m    668\u001b[0m     \u001b[38;5;28;01mtry\u001b[39;00m:\n\u001b[0;32m--> 669\u001b[0m         \u001b[38;5;28;01mreturn\u001b[39;00m \u001b[38;5;28;43mself\u001b[39;49m\u001b[38;5;241;43m.\u001b[39;49m\u001b[43m_sock\u001b[49m\u001b[38;5;241;43m.\u001b[39;49m\u001b[43mrecv_into\u001b[49m\u001b[43m(\u001b[49m\u001b[43mb\u001b[49m\u001b[43m)\u001b[49m\n\u001b[1;32m    670\u001b[0m     \u001b[38;5;28;01mexcept\u001b[39;00m timeout:\n\u001b[1;32m    671\u001b[0m         \u001b[38;5;28mself\u001b[39m\u001b[38;5;241m.\u001b[39m_timeout_occurred \u001b[38;5;241m=\u001b[39m \u001b[38;5;28;01mTrue\u001b[39;00m\n",
      "File \u001b[0;32m~/bahs\b\b/envs/d2l/lib/python3.8/ssl.py:1241\u001b[0m, in \u001b[0;36mSSLSocket.recv_into\u001b[0;34m(self, buffer, nbytes, flags)\u001b[0m\n\u001b[1;32m   1237\u001b[0m     \u001b[38;5;28;01mif\u001b[39;00m flags \u001b[38;5;241m!=\u001b[39m \u001b[38;5;241m0\u001b[39m:\n\u001b[1;32m   1238\u001b[0m         \u001b[38;5;28;01mraise\u001b[39;00m \u001b[38;5;167;01mValueError\u001b[39;00m(\n\u001b[1;32m   1239\u001b[0m           \u001b[38;5;124m\"\u001b[39m\u001b[38;5;124mnon-zero flags not allowed in calls to recv_into() on \u001b[39m\u001b[38;5;132;01m%s\u001b[39;00m\u001b[38;5;124m\"\u001b[39m \u001b[38;5;241m%\u001b[39m\n\u001b[1;32m   1240\u001b[0m           \u001b[38;5;28mself\u001b[39m\u001b[38;5;241m.\u001b[39m\u001b[38;5;18m__class__\u001b[39m)\n\u001b[0;32m-> 1241\u001b[0m     \u001b[38;5;28;01mreturn\u001b[39;00m \u001b[38;5;28;43mself\u001b[39;49m\u001b[38;5;241;43m.\u001b[39;49m\u001b[43mread\u001b[49m\u001b[43m(\u001b[49m\u001b[43mnbytes\u001b[49m\u001b[43m,\u001b[49m\u001b[43m \u001b[49m\u001b[43mbuffer\u001b[49m\u001b[43m)\u001b[49m\n\u001b[1;32m   1242\u001b[0m \u001b[38;5;28;01melse\u001b[39;00m:\n\u001b[1;32m   1243\u001b[0m     \u001b[38;5;28;01mreturn\u001b[39;00m \u001b[38;5;28msuper\u001b[39m()\u001b[38;5;241m.\u001b[39mrecv_into(buffer, nbytes, flags)\n",
      "File \u001b[0;32m~/bahs\b\b/envs/d2l/lib/python3.8/ssl.py:1099\u001b[0m, in \u001b[0;36mSSLSocket.read\u001b[0;34m(self, len, buffer)\u001b[0m\n\u001b[1;32m   1097\u001b[0m \u001b[38;5;28;01mtry\u001b[39;00m:\n\u001b[1;32m   1098\u001b[0m     \u001b[38;5;28;01mif\u001b[39;00m buffer \u001b[38;5;129;01mis\u001b[39;00m \u001b[38;5;129;01mnot\u001b[39;00m \u001b[38;5;28;01mNone\u001b[39;00m:\n\u001b[0;32m-> 1099\u001b[0m         \u001b[38;5;28;01mreturn\u001b[39;00m \u001b[38;5;28;43mself\u001b[39;49m\u001b[38;5;241;43m.\u001b[39;49m\u001b[43m_sslobj\u001b[49m\u001b[38;5;241;43m.\u001b[39;49m\u001b[43mread\u001b[49m\u001b[43m(\u001b[49m\u001b[38;5;28;43mlen\u001b[39;49m\u001b[43m,\u001b[49m\u001b[43m \u001b[49m\u001b[43mbuffer\u001b[49m\u001b[43m)\u001b[49m\n\u001b[1;32m   1100\u001b[0m     \u001b[38;5;28;01melse\u001b[39;00m:\n\u001b[1;32m   1101\u001b[0m         \u001b[38;5;28;01mreturn\u001b[39;00m \u001b[38;5;28mself\u001b[39m\u001b[38;5;241m.\u001b[39m_sslobj\u001b[38;5;241m.\u001b[39mread(\u001b[38;5;28mlen\u001b[39m)\n",
      "\u001b[0;31mKeyboardInterrupt\u001b[0m: "
     ]
    }
   ],
   "source": [
    "start_time = \"2020-12-25\"\n",
    "end_time = \"\"\n",
    "base_sql = \"select concat('https://ty.cutcckms.com/zhjl', b.RELATIVE_PATH, b.file_name) uri, b.create_date from zhjl_itemtaskinspect a \\\n",
    "            left join base_file_upload_info b on a.fileid = b.file_id \\\n",
    "            where a.del_flag = 0 and b.del_flag = 0\" \n",
    "file_sql = \"\"\n",
    "if len(start_time) == 0 or len(end_time) == 0:\n",
    "    file_sql = base_sql\n",
    "else:\n",
    "    file_sql = base_sql + \" and b.create_date>= '\" + start_time + \"' and b.create_date<='\" + end_time + \"'\"\n",
    "\n",
    "connection = pymysql.connect(\n",
    "        host=\"rm-bp1buvmr77jdglr16lo.mysql.rds.aliyuncs.com\",\n",
    "        user=\"\",\n",
    "        passwd=\"\",\n",
    "        database=\"\",\n",
    "        port=3306,\n",
    "        charset=\"utf8\",\n",
    "        cursorclass=pymysql.cursors.DictCursor)\n",
    "cursor = connection.cursor()\n",
    "\n",
    "# 任务模板\n",
    "sql = \"select id, code, name from zhjl_tasktemplate where del_flag = 0 and property = 2\"\n",
    "cursor.execute(sql)\n",
    "template = cursor.fetchall()\n",
    "\n",
    "for template_item in template:\n",
    "    # 任务\n",
    "    task_sql = \"select id, code, name from zhjl_task where del_flag = 0 and templateid = \" + str(template_item[\"id\"])\n",
    "    cursor.execute(task_sql)\n",
    "    task = cursor.fetchall()\n",
    "    template_item[\"task\"] = task\n",
    "    for task_item in task:\n",
    "        # 检查项\n",
    "        inspect_sql = \"select id, code, name from zhjl_taskinspect where del_flag = 0 and taskid = \" + str(task_item[\"id\"])\n",
    "        cursor.execute(inspect_sql)\n",
    "        inspect = cursor.fetchall()\n",
    "        task_item[\"inspect\"] = inspect\n",
    "        for inspect_item in inspect:\n",
    "            # 图片文件存放路径\n",
    "            path_file = os.path.join(str(template_item[\"id\"]) +\"_\"+ template_item[\"name\"], \n",
    "                                 str(task_item[\"id\"]) + \"_\" + task_item[\"name\"],\n",
    "                                 str(inspect_item[\"id\"]) + \"_\" + inspect_item[\"name\"])\n",
    "            temp_file = os.path.join(path_root, path_file)\n",
    "            mkd(temp_file)\n",
    "            # 图片\n",
    "            image_sql = file_sql + \" and a.inspectid = \" + str(inspect_item[\"id\"])\n",
    "            cursor.execute(image_sql)\n",
    "            image = cursor.fetchall()\n",
    "            inspect_item[\"image\"] = image\n",
    "            down_load(image, temp_file)\n",
    "connection.close()"
   ]
  },
  {
   "cell_type": "markdown",
   "id": "7c4bd520",
   "metadata": {},
   "source": [
    "## 导出json数据，层级为：模板-任务-检查项目-图片网络路径"
   ]
  },
  {
   "cell_type": "code",
   "execution_count": 26,
   "id": "f7fd9b91",
   "metadata": {},
   "outputs": [],
   "source": [
    "# date_today = time.strftime(\"%Y-%m-%d\", time.gmtime())\n",
    "# file_name = \"inspect_image\" + date_today + \".txt\"\n",
    "# json.dumps = functools.partial(json.dumps, cls=DateEncoder)\n",
    "# with open(file_name, 'w') as f:\n",
    "#      f.write(json.dumps(template, ensure_ascii=False))"
   ]
  }
 ],
 "metadata": {
  "kernelspec": {
   "display_name": "Python 3 (ipykernel)",
   "language": "python",
   "name": "python3"
  },
  "language_info": {
   "codemirror_mode": {
    "name": "ipython",
    "version": 3
   },
   "file_extension": ".py",
   "mimetype": "text/x-python",
   "name": "python",
   "nbconvert_exporter": "python",
   "pygments_lexer": "ipython3",
   "version": "3.8.13"
  }
 },
 "nbformat": 4,
 "nbformat_minor": 5
}
